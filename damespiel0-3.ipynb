{
 "cells": [
  {
   "cell_type": "code",
   "execution_count": 1,
   "outputs": [
    {
     "name": "stdout",
     "output_type": "stream",
     "text": [
      "pygame 2.1.2 (SDL 2.0.18, Python 3.9.13)\n",
      "Hello from the pygame community. https://www.pygame.org/contribute.html\n"
     ]
    }
   ],
   "source": [
    "import pygame as pg\n",
    "from collections import defaultdict"
   ],
   "metadata": {
    "collapsed": false
   }
  },
  {
   "cell_type": "code",
   "execution_count": null,
   "outputs": [
    {
     "name": "stdout",
     "output_type": "stream",
     "text": [
      "defaultdict(<class 'list'>, {26: [[19, 26, 1, None, None], [17, 26, 1, None, None]], 44: [[51, 44, 8, None, None], [58, 44, 8, None, None], [53, 44, 8, None, None], [62, 44, 8, None, None], [37, 44, 8, None, None], [30, 44, 8, None, None], [23, 44, 8, None, None], [35, 44, 8, None, None]]})\n"
     ]
    }
   ],
   "source": [
    "def feld2xy(feld):\n",
    "  x = feld % 8 * FELD\n",
    "  y = feld // 8 * FELD\n",
    "  return x,y\n",
    "\n",
    "def feld2zentrum(feld):\n",
    "  x,y = feld2xy(feld)\n",
    "  return x + FELD//2, y + FELD//2\n",
    "\n",
    "def generiere_zugliste(spieler):\n",
    "  zugliste = defaultdict(list)\n",
    "  for von,stein in brett.items():\n",
    "    if stein not in steine[spieler]: continue\n",
    "    for richtung in richtungen[stein]:\n",
    "      for n in range(1,abs(stein)+1):\n",
    "        zu = von + richtung * n\n",
    "        if zu not in brett or brett[zu] != 0:\n",
    "          break\n",
    "        zugliste[von].append([zu,von,stein,None,None])\n",
    "  return zugliste\n",
    "\n",
    "\n",
    "brett = {nr:0 for nr in range(64) if nr // 8 % 2 != nr % 8 % 2}\n",
    "# for feld in brett:\n",
    "#   if feld < 24:\n",
    "#     brett[feld] = -1\n",
    "#   elif feld > 39:\n",
    "#     brett[feld] = 1\n",
    "brett[44] = 8\n",
    "brett[26] = 1\n",
    "\n",
    "am_zug = True\n",
    "steine = {True:{1,8}, False:{-1,-8}}\n",
    "richtungen = {1: [-7,-9], -1:[7,9], -8:[7,9,-7,-9], 8:[7,9,-7,-9]}\n",
    "zugliste = generiere_zugliste(am_zug)\n",
    "print(zugliste)\n",
    "\n",
    "\n",
    "AUFLÖSUNG = 800\n",
    "FELD = AUFLÖSUNG // 8\n",
    "pg.init()\n",
    "screen = pg.display.set_mode([AUFLÖSUNG, AUFLÖSUNG])\n",
    "weitermachen = True\n",
    "clock = pg.time.Clock()\n",
    "while weitermachen:\n",
    "  for ereignis in pg.event.get():\n",
    "    if ereignis.type == pg.QUIT:\n",
    "      weitermachen = False\n",
    "  clock.tick(20)\n",
    "  screen.fill((0,0,0))\n",
    "  for feld in range(64):\n",
    "    farbe = (209,139,71) if feld in brett else (254,206,158)\n",
    "    pg.draw.rect(screen, farbe, (feld2xy(feld), (FELD, FELD)))\n",
    "  for feld, stein in brett.items():\n",
    "    if stein == 0: continue\n",
    "    farbe = (0,0,0) if stein in (-1,-8) else (255,255,255)\n",
    "    pg.draw.circle(screen, farbe, feld2zentrum(feld), int(FELD*0.2))\n",
    "\n",
    "  pg.display.flip()\n",
    "\n",
    "pg.quit()"
   ],
   "metadata": {
    "collapsed": false,
    "pycharm": {
     "is_executing": true
    }
   }
  }
 ],
 "metadata": {
  "kernelspec": {
   "display_name": "Python 3",
   "language": "python",
   "name": "python3"
  },
  "language_info": {
   "codemirror_mode": {
    "name": "ipython",
    "version": 2
   },
   "file_extension": ".py",
   "mimetype": "text/x-python",
   "name": "python",
   "nbconvert_exporter": "python",
   "pygments_lexer": "ipython2",
   "version": "2.7.6"
  }
 },
 "nbformat": 4,
 "nbformat_minor": 0
}
