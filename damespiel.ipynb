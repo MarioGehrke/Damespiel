{
 "cells": [
  {
   "cell_type": "code",
   "execution_count": 1,
   "outputs": [
    {
     "name": "stdout",
     "output_type": "stream",
     "text": [
      "pygame 2.1.2 (SDL 2.0.18, Python 3.9.13)\n",
      "Hello from the pygame community. https://www.pygame.org/contribute.html\n"
     ]
    }
   ],
   "source": [
    "import pygame as pg\n",
    "from collections import defaultdict\n"
   ],
   "metadata": {
    "collapsed": false
   }
  },
  {
   "cell_type": "code",
   "execution_count": 7,
   "outputs": [
    {
     "ename": "IndentationError",
     "evalue": "expected an indented block (1168337179.py, line 17)",
     "output_type": "error",
     "traceback": [
      "\u001B[1;36m  Cell \u001B[1;32mIn[7], line 17\u001B[1;36m\u001B[0m\n\u001B[1;33m    zu = von + richtung\u001B[0m\n\u001B[1;37m    ^\u001B[0m\n\u001B[1;31mIndentationError\u001B[0m\u001B[1;31m:\u001B[0m expected an indented block\n"
     ]
    }
   ],
   "source": [
    "* funtionen\n",
    "\n",
    "def feld2xy(feld):\n",
    "    x = feld % 8 * FELD\n",
    "    y = feld // 8 * FELD\n",
    "    return x,y\n",
    "\n",
    "def feld2zentrum(feld):\n",
    "    x,y = feld2xy(feld)\n",
    "    return x + FELD // 2, y + FELD // 2\n",
    "\n",
    "def generiere_zugliste(spieler):\n",
    "    zugliste = defaultdict(list)\n",
    "    for von ,stein  in brett.item():\n",
    "        if stein not in steine [spieler]: continue\n",
    "        for richtung in richtungen [stein]:\n",
    "        zu = von + richtung\n",
    "        if zu in brett and brett[zu] == 0:\n",
    "            zugliste[von].append([zu, von, stein, None, None])\n",
    "    return zugliste\n",
    "\n",
    "brett = {nr:0 for nr in range(64) if nr // 8 % 2 != nr % 8 % 2}\n",
    "for feld in brett:\n",
    "    if feld < 24:\n",
    "        brett[feld] = -1\n",
    "    elif feld > 39:\n",
    "        brett[feld] = 1\n",
    "\n",
    "am_zug = True\n",
    "zugliste = generiere_zugliste(am_zug)\n",
    "print(zugliste)\n",
    "steine = {True:{1,8}, False:{-1,-8}}\n",
    "richtungen = {1: [-7,-9], -1: [7,9], -8:[7,9,-7,-9], 8: [7,9,-7,-9]}\n",
    "\n",
    "AUFLÖSUNG = 800\n",
    "FELD = AUFLÖSUNG // 8\n",
    "pg.init()\n",
    "screen = pg.display.set_mode([AUFLÖSUNG, AUFLÖSUNG])\n",
    "weitermachen = True\n",
    "clock = pg.time.Clock()\n",
    "while weitermachen:\n",
    "    for ereignis in pg.event.get():\n",
    "        if ereignis.type == pg.QUIT:\n",
    "            weitermachen = False\n",
    "    clock.tick(20)\n",
    "    screen.fill((0,0,0))\n",
    "    for feld in range(64):\n",
    "        farbe = (209,139,71) if feld in brett else (254,206,158)\n",
    "        pg.draw.rect(screen, farbe, (feld2xy(feld), (FELD, FELD)))\n",
    "    for feld, stein in brett.items():\n",
    "        if stein == 0: continue\n",
    "        farbe = (0,0,0) if stein in(-1,-8) else(255,255,255)\n",
    "        pg.draw.circle(screen, farbe, feld2zentrum(feld), int(FELD * 0.2))\n",
    "    pg.display.flip()\n",
    "pg.quit()"
   ],
   "metadata": {
    "collapsed": false
   }
  }
 ],
 "metadata": {
  "kernelspec": {
   "display_name": "Python 3",
   "language": "python",
   "name": "python3"
  },
  "language_info": {
   "codemirror_mode": {
    "name": "ipython",
    "version": 2
   },
   "file_extension": ".py",
   "mimetype": "text/x-python",
   "name": "python",
   "nbconvert_exporter": "python",
   "pygments_lexer": "ipython2",
   "version": "2.7.6"
  }
 },
 "nbformat": 4,
 "nbformat_minor": 0
}
