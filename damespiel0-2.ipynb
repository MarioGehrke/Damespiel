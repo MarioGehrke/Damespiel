{
 "cells": [
  {
   "cell_type": "code",
   "execution_count": 2,
   "outputs": [
    {
     "name": "stdout",
     "output_type": "stream",
     "text": [
      "pygame 2.1.2 (SDL 2.0.18, Python 3.9.13)\n",
      "Hello from the pygame community. https://www.pygame.org/contribute.html\n"
     ]
    }
   ],
   "source": [
    "import pygame as pg\n",
    "from collections import defaultdict\n"
   ],
   "metadata": {
    "collapsed": false
   }
  },
  {
   "cell_type": "code",
   "execution_count": 6,
   "outputs": [
    {
     "ename": "NameError",
     "evalue": "name 'spieler' is not defined",
     "output_type": "error",
     "traceback": [
      "\u001B[1;31m---------------------------------------------------------------------------\u001B[0m",
      "\u001B[1;31mNameError\u001B[0m                                 Traceback (most recent call last)",
      "Cell \u001B[1;32mIn[6], line 34\u001B[0m\n\u001B[0;32m     32\u001B[0m steine \u001B[38;5;241m=\u001B[39m {\u001B[38;5;28;01mTrue\u001B[39;00m:{\u001B[38;5;241m1\u001B[39m,\u001B[38;5;241m8\u001B[39m}, \u001B[38;5;28;01mFalse\u001B[39;00m:{\u001B[38;5;241m-\u001B[39m\u001B[38;5;241m1\u001B[39m,\u001B[38;5;241m-\u001B[39m\u001B[38;5;241m8\u001B[39m}}\n\u001B[0;32m     33\u001B[0m richtungen \u001B[38;5;241m=\u001B[39m {\u001B[38;5;241m1\u001B[39m: [\u001B[38;5;241m-\u001B[39m\u001B[38;5;241m7\u001B[39m,\u001B[38;5;241m-\u001B[39m\u001B[38;5;241m9\u001B[39m], \u001B[38;5;241m-\u001B[39m\u001B[38;5;241m1\u001B[39m: [\u001B[38;5;241m7\u001B[39m,\u001B[38;5;241m9\u001B[39m], \u001B[38;5;241m-\u001B[39m\u001B[38;5;241m8\u001B[39m:[\u001B[38;5;241m7\u001B[39m,\u001B[38;5;241m9\u001B[39m,\u001B[38;5;241m-\u001B[39m\u001B[38;5;241m7\u001B[39m,\u001B[38;5;241m-\u001B[39m\u001B[38;5;241m9\u001B[39m], \u001B[38;5;241m8\u001B[39m: [\u001B[38;5;241m7\u001B[39m,\u001B[38;5;241m9\u001B[39m,\u001B[38;5;241m-\u001B[39m\u001B[38;5;241m7\u001B[39m,\u001B[38;5;241m-\u001B[39m\u001B[38;5;241m9\u001B[39m]}\n\u001B[1;32m---> 34\u001B[0m zugliste \u001B[38;5;241m=\u001B[39m generiere_zugliste(\u001B[43mspieler\u001B[49m)\n\u001B[0;32m     36\u001B[0m AUFLÖSUNG \u001B[38;5;241m=\u001B[39m \u001B[38;5;241m800\u001B[39m\n\u001B[0;32m     37\u001B[0m FELD \u001B[38;5;241m=\u001B[39m AUFLÖSUNG \u001B[38;5;241m/\u001B[39m\u001B[38;5;241m/\u001B[39m \u001B[38;5;241m8\u001B[39m\n",
      "\u001B[1;31mNameError\u001B[0m: name 'spieler' is not defined"
     ]
    }
   ],
   "source": [
    "def feld2xy(feld):\n",
    "    x = feld % 8 * FELD\n",
    "    y = feld // 8 * FELD\n",
    "    return x,y\n",
    "\n",
    "def feld2zentrum(feld):\n",
    "    x,y = feld2xy(feld)\n",
    "    return x + FELD // 2, y + FELD // 2\n",
    "\n",
    "def generiere_zugliste(spieler):\n",
    "    zugliste = defaultdict(list)\n",
    "    for von ,stein  in brett.item():\n",
    "        if stein not in steine [spieler]: continue\n",
    "        for richtung in richtungen [stein]:\n",
    "            for n in range(1,abs(stein)+1):\n",
    "                zu = von + richtung * n\n",
    "                if zu not in brett or brett[zu] != 0:\n",
    "                    break\n",
    "                zugliste[von].append([zu, von, stein, None, None])\n",
    "    return zugliste\n",
    "\n",
    "brett = {nr:0 for nr in range(64) if nr // 8 % 2 != nr % 8 % 2}\n",
    "for feld in brett:\n",
    "    if feld < 24:\n",
    "        brett[feld] = -1\n",
    "    elif feld > 39:\n",
    "        brett[feld] = 1\n",
    "brett[44] = 8\n",
    "brett[26] = 1\n",
    "\n",
    "am_zug = True\n",
    "steine = {True:{1,8}, False:{-1,-8}}\n",
    "richtungen = {1: [-7,-9], -1: [7,9], -8:[7,9,-7,-9], 8: [7,9,-7,-9]}\n",
    "zugliste = generiere_zugliste(am_zug)\n",
    "\n",
    "AUFLÖSUNG = 800\n",
    "FELD = AUFLÖSUNG // 8\n",
    "pg.init()\n",
    "screen = pg.display.set_mode([AUFLÖSUNG, AUFLÖSUNG])\n",
    "weitermachen = True\n",
    "clock = pg.time.Clock()\n",
    "while weitermachen:\n",
    "    for ereignis in pg.event.get():\n",
    "        if ereignis.type == pg.QUIT:\n",
    "            weitermachen = False\n",
    "    clock.tick(20)\n",
    "    screen.fill((0,0,0))\n",
    "    for feld in range(64):\n",
    "        farbe = (209,139,71) if feld in brett else (254,206,158)\n",
    "        pg.draw.rect(screen, farbe, (feld2xy(feld), (FELD, FELD)))\n",
    "    for feld, stein in brett.items():\n",
    "        if stein == 0: continue\n",
    "        farbe = (0,0,0) if stein in(-1,-8) else(255,255,255)\n",
    "        pg.draw.circle(screen, farbe, feld2zentrum(feld), int(FELD * 0.2))\n",
    "    pg.display.flip()\n",
    "pg.quit()"
   ],
   "metadata": {
    "collapsed": false
   }
  }
 ],
 "metadata": {
  "kernelspec": {
   "display_name": "Python 3",
   "language": "python",
   "name": "python3"
  },
  "language_info": {
   "codemirror_mode": {
    "name": "ipython",
    "version": 2
   },
   "file_extension": ".py",
   "mimetype": "text/x-python",
   "name": "python",
   "nbconvert_exporter": "python",
   "pygments_lexer": "ipython2",
   "version": "2.7.6"
  }
 },
 "nbformat": 4,
 "nbformat_minor": 0
}
